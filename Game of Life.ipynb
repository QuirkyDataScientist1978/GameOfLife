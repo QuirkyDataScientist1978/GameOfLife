{
 "cells": [
  {
   "cell_type": "markdown",
   "metadata": {},
   "source": [
    "# Conway's Game of Life "
   ]
  },
  {
   "cell_type": "markdown",
   "metadata": {},
   "source": [
    "Conway's Game of Life is an example of cellular automata. The rules of the game are straightforward and a good discussion can be found on Wikipedia, https://en.wikipedia.org/wiki/Conway%27s_Game_of_Life."
   ]
  },
  {
   "cell_type": "markdown",
   "metadata": {},
   "source": [
    "## Rules:\n",
    "\n",
    "From Wikipedia,\"The universe of the Game of Life is an infinite two-dimensional orthogonal grid of square cells, each of which is in one of two possible states, alive or dead, or \"populated\" or \"unpopulated\". Every cell interacts with its eight neighbours, which are the cells that are horizontally, vertically, or diagonally adjacent. At each step in time, the following transitions occur:\n",
    "\n",
    "    Any live cell with fewer than two live neighbours dies, as if caused by underpopulation.\n",
    "    Any live cell with two or three live neighbours lives on to the next generation.\n",
    "    Any live cell with more than three live neighbours dies, as if by overpopulation.\n",
    "    Any dead cell with exactly three live neighbours becomes a live cell, as if by reproduction.\n",
    "\n",
    "The initial pattern constitutes the seed of the system. The first generation is created by applying the above rules simultaneously to every cell in the seed—births and deaths occur simultaneously, and the discrete moment at which this happens is sometimes called a tick (in other words, each generation is a pure function of the preceding one). The rules continue to be applied repeatedly to create further generations.\""
   ]
  },
  {
   "cell_type": "markdown",
   "metadata": {},
   "source": [
    "## Predictibility and Long-term Behavior\n",
    "One of the interesting features of the Game of Life is that it is very difficult to predict which populations will survive many generations and which will go extinct quickly. "
   ]
  },
  {
   "cell_type": "markdown",
   "metadata": {},
   "source": [
    "## The Model\n",
    "The model employed in this example uses a variable-sized 2-d grid initially populated by a binomial random number generator. A cell that holds the value 1 is said to be \"alive\" while a cell that holds the value 0 is said to be \"dead\". A probability value for initially being alive is specified as well as the number of columns and rows of the grid and lastly the number of generations to iterate through. If the population ever dies out the simulation is halted. \n",
    "\n",
    "Remarkably, some stable forms of life have been discovered, Still, Oscillators, and some that actually have the ability to move across the plane such as Spaceships and Gliders. \n",
    "\n",
    "A possible extension to the model could be to allow for random mutations to occur. "
   ]
  },
  {
   "cell_type": "code",
   "execution_count": null,
   "metadata": {},
   "outputs": [
    {
     "name": "stdout",
     "output_type": "stream",
     "text": [
      "First Generation\n"
     ]
    },
    {
     "data": {
      "image/png": "[encoded data removed]",
      "text/plain": [
       "<matplotlib.figure.Figure at 0x1054e43d0>"
      ]
     },
     "metadata": {},
     "output_type": "display_data"
    }
   ],
   "source": [
    "import numpy\n",
    "import sys\n",
    "from matplotlib import pyplot as plt\n",
    "\n",
    "\n",
    "#prob = float(sys.argv[1])\n",
    "#COLS = int(sys.argv[2])\n",
    "#ROWS = int(sys.argv[3])\n",
    "#generations = int(sys.argv[4])\n",
    "prob = 0.7\n",
    "COLS = 200\n",
    "ROWS = 198\n",
    "generations = 100\n",
    "\n",
    "N=numpy.random.binomial(1,prob,size=(ROWS+2)*COLS)\n",
    "M=numpy.reshape(N,(ROWS+2,COLS))\n",
    "\n",
    "M[0,:] = 0\n",
    "M[ROWS+1,:] = 0\n",
    "M[:,0] = 0\n",
    "M[:,COLS-1] = 0\n",
    "\n",
    "initM = numpy.copy(M)\n",
    "#print initM\n",
    "print(\"First Generation\")\n",
    "\n",
    "plt.imshow(initM, interpolation='nearest')\n",
    "plt.show()\n",
    "\n",
    "generation = 0\n",
    "for i in xrange(generations):\n",
    "        generation = generation + 1\n",
    " #       print (\"Generation = \",generation)\n",
    "        intermediateM = numpy.copy(M)\n",
    "        for ROWelem in xrange(1,ROWS+1):\n",
    "                for COLelem in xrange(1,COLS-1):\n",
    "                        sum = ( M[ROWelem-1,COLelem-1]+M[ROWelem-1,COLelem]+M[ROWelem-1,COLelem+1]\n",
    "                            +M[ROWelem,COLelem-1]+M[ROWelem,COLelem+1]\n",
    "                            +M[ROWelem+1,COLelem-1]+M[ROWelem+1,COLelem]+M[ROWelem+1,COLelem+1] )\n",
    "        #               print(ROWelem,\" \",COLelem,\" \",sum)\n",
    "                        if M[ROWelem,COLelem] == 1:\n",
    "                                if sum < 2:\n",
    "                                        intermediateM[ROWelem,COLelem] = 0\n",
    "                                elif sum > 3:\n",
    "                                        intermediateM[ROWelem,COLelem] = 0\n",
    "                                else:\n",
    "                                        intermediateM[ROWelem,COLelem] = 1\n",
    "                        if M[ROWelem,COLelem] == 0:\n",
    "                                if sum == 3:\n",
    "                                        intermediateM[ROWelem,COLelem] = 1\n",
    "                                else:\n",
    "                                        intermediateM[ROWelem,COLelem] = 0\n",
    "        M = numpy.copy(intermediateM)\n",
    "        if numpy.sum(M) == 0:\n",
    "                print(\"Extinction Occurs at generation = \",generation)\n",
    "                plt.imshow(M, interpolation='nearest')\n",
    "                plt.show()\n",
    "                break\n",
    "      #  print(\" \")\n",
    "      #  print M\n",
    "\n",
    "#print(\" \")\n",
    "#print(\" \")\n",
    "#print(\"First Generation\")\n",
    "#print initM\n",
    "\n",
    "#print(\" \")\n",
    "print(\"Present Generation = %d\" %(generation))\n",
    "#print M\n",
    "plt.imshow(M, interpolation='nearest')\n",
    "plt.show()"
   ]
  },
  {
   "cell_type": "code",
   "execution_count": null,
   "metadata": {
    "collapsed": true
   },
   "outputs": [],
   "source": []
  }
 ],
 "metadata": {
  "kernelspec": {
   "display_name": "Python 2",
   "language": "python",
   "name": "python2"
  },
  "language_info": {
   "codemirror_mode": {
    "name": "ipython",
    "version": 2
   },
   "file_extension": ".py",
   "mimetype": "text/x-python",
   "name": "python",
   "nbconvert_exporter": "python",
   "pygments_lexer": "ipython2",
   "version": "2.7.13"
  }
 },
 "nbformat": 4,
 "nbformat_minor": 2
}
